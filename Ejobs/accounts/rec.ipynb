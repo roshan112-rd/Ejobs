{
 "cells": [
  {
   "cell_type": "code",
   "execution_count": null,
   "metadata": {
    "id": "2LLHgwudS8pq"
   },
   "outputs": [],
   "source": [
    "import pandas as pd\n",
    "import numpy as np\n",
    "from sklearn.feature_extraction.text import TfidfVectorizer\n",
    "from sklearn.metrics.pairwise import cosine_similarity\n",
    "from sklearn.feature_extraction.text import CountVectorizer\n",
    "import sqlalchemy\n",
    "import sqlite3"
   ]
  },
  {
   "cell_type": "code",
   "execution_count": null,
   "metadata": {
    "id": "zUPXFt8CS8p0"
   },
   "outputs": [],
   "source": [
    "# engine = sqlalchemy.create_engine('mysql+pymysql://root:@localhost:3306/Foodie')"
   ]
  },
  {
   "cell_type": "code",
   "execution_count": null,
   "metadata": {
    "id": "XN_13DgoS8p1"
   },
   "outputs": [],
   "source": [
    "engine = sqlite3.connect('db.sqlite3')\n",
    "cur = engine.cursor()"
   ]
  },
  {
   "cell_type": "code",
   "execution_count": null,
   "metadata": {
    "colab": {
     "base_uri": "https://localhost:8080/",
     "height": 425
    },
    "id": "iZrS2GBnTyFd",
    "outputId": "db6a719f-7192-43f3-f9a9-f591a0f94d00"
   },
   "outputs": [],
   "source": [
    "Blogs =  pd.read_sql_query(\"SELECT * from jobs_job\", engine)\n",
    "Blogs.head(3)"
   ]
  },
  {
   "cell_type": "code",
   "execution_count": null,
   "metadata": {
    "colab": {
     "base_uri": "https://localhost:8080/",
     "height": 332
    },
    "id": "w2TYlo3kUl6W",
    "outputId": "886a3a54-a073-45bb-89dd-baa10833e4b4"
   },
   "outputs": [],
   "source": []
  },
  {
   "cell_type": "markdown",
   "metadata": {
    "id": "0GsIJA0BS9JE"
   },
   "source": []
  },
  {
   "cell_type": "code",
   "execution_count": null,
   "metadata": {
    "colab": {
     "base_uri": "https://localhost:8080/",
     "height": 250
    },
    "id": "-R2RbNv9S8p3",
    "outputId": "6f63c67c-aa46-49b4-c77a-c97aa073c96e"
   },
   "outputs": [],
   "source": [
    "Blogs = pd.read_sql_query(\"SELECT * from jobs_job\", engine)\n",
    "Blogs.rename(columns={\n",
    "    'job_id': 'job_id',\n",
    "    'id': 'user_id',\n",
    "}, inplace=True)\n",
    "Blogs.head(2)"
   ]
  },
  {
   "cell_type": "code",
   "execution_count": null,
   "metadata": {
    "colab": {
     "base_uri": "https://localhost:8080/",
     "height": 193
    },
    "id": "n0A4CZsjUCcK",
    "outputId": "fa8655ed-62f9-44b6-e2f3-59e533bdd6af"
   },
   "outputs": [],
   "source": [
    "User = pd.read_sql_query(\"SELECT * from auth_user\", engine)\n",
    "User.head(3)"
   ]
  },
  {
   "cell_type": "code",
   "execution_count": null,
   "metadata": {
    "colab": {
     "base_uri": "https://localhost:8080/",
     "height": 145
    },
    "id": "M96ceOlwS8p3",
    "outputId": "a7125391-ee6b-4fc3-cda8-6bfc89ef1d45"
   },
   "outputs": [],
   "source": [
    "User = pd.read_sql_query(\"SELECT * from auth_user\", engine)\n",
    "User.rename(columns={\n",
    "    'id': 'id'\n",
    "}, inplace=True)\n",
    "User.head(2)"
   ]
  },
  {
   "cell_type": "code",
   "execution_count": null,
   "metadata": {
    "id": "qYgZRLfJS8p4"
   },
   "outputs": [],
   "source": [
    "# Blogs = pd.read_sql_table('Jobs',engine)\n",
    "# Blogs.rename(columns={\n",
    "#     'id': 'blog_id',\n",
    "#     'Author_id': 'user_id',\n",
    "# }, inplace=True)\n",
    "# Blogs.head(5)"
   ]
  },
  {
   "cell_type": "code",
   "execution_count": null,
   "metadata": {
    "id": "kL3U54NBS8p4"
   },
   "outputs": [],
   "source": [
    "# Reviews = pd.read_sql_table('foodie_review',engine)\n",
    "# Reviews.rename(columns={\n",
    "#     'id': 'review_id'\n",
    "# }, inplace=True)\n",
    "# Reviews.head(5)"
   ]
  },
  {
   "cell_type": "code",
   "execution_count": null,
   "metadata": {
    "id": "QeFFlpBnS8p5"
   },
   "outputs": [],
   "source": [
    "# User = pd.read_sql_table('auth_user',engine, columns=['id', 'username'])\n",
    "# User.rename(columns={\n",
    "#     'id': 'user_id'\n",
    "# }, inplace=True)\n",
    "# User.head(5)"
   ]
  },
  {
   "cell_type": "code",
   "execution_count": null,
   "metadata": {
    "colab": {
     "base_uri": "https://localhost:8080/",
     "height": 332
    },
    "id": "2h96jOurU_qV",
    "outputId": "0e625c62-8900-42f5-ea79-925604993a9f"
   },
   "outputs": [],
   "source": [
    "Joined_Table = pd.read_sql_query(\"SELECT * from jobs_job AS A INNER JOIN auth_user AS B ON A.job_id = B.id\", engine)\n",
    "Joined_Table.head(3)"
   ]
  },
  {
   "cell_type": "code",
   "execution_count": null,
   "metadata": {
    "id": "IYM5XQSsS8p5"
   },
   "outputs": [],
   "source": [
    "Data = Joined_Table"
   ]
  },
  {
   "cell_type": "code",
   "execution_count": null,
   "metadata": {
    "id": "SFmITwg2S8p6"
   },
   "outputs": [],
   "source": [
    "from sklearn.model_selection import train_test_split\n",
    "Xtrain, Xtest = train_test_split(Data, test_size=0.2, random_state=1)"
   ]
  },
  {
   "cell_type": "code",
   "execution_count": null,
   "metadata": {
    "colab": {
     "base_uri": "https://localhost:8080/"
    },
    "id": "_-FidS51S8p6",
    "outputId": "03f813aa-744a-4218-bc1b-a72df6e99e81"
   },
   "outputs": [],
   "source": [
    "print(f\"Shape of train data: {Xtrain.shape}\")\n",
    "print(f\"Shape of test data: {Xtest.shape}\")\n",
    "\n",
    "print(Xtest.columns)"
   ]
  },
  {
   "cell_type": "code",
   "execution_count": null,
   "metadata": {
    "id": "TcKU1Kv2S8p6"
   },
   "outputs": [],
   "source": [
    "from sklearn.metrics.pairwise import cosine_similarity"
   ]
  },
  {
   "cell_type": "code",
   "execution_count": null,
   "metadata": {
    "id": "zBe1L8SvS8p7"
   },
   "outputs": [],
   "source": [
    "tfidfvec = TfidfVectorizer()\n",
    "tfidf_recipe_id = tfidfvec.fit_transform(Xtrain['job_category'])\n",
    "cosine_sim = cosine_similarity(tfidf_recipe_id)"
   ]
  },
  {
   "cell_type": "code",
   "execution_count": null,
   "metadata": {
    "colab": {
     "base_uri": "https://localhost:8080/"
    },
    "id": "c6nHDPk4S8p7",
    "outputId": "83c22bac-d41d-4ed6-ac8b-6f0b4f9c0757"
   },
   "outputs": [],
   "source": [
    "tfidfvec"
   ]
  },
  {
   "cell_type": "code",
   "execution_count": null,
   "metadata": {
    "id": "pNjiO9zOWvL8"
   },
   "outputs": [],
   "source": [
    "job_id = Xtrain[Xtrain.job_category == \"finance\"].index"
   ]
  },
  {
   "cell_type": "code",
   "execution_count": null,
   "metadata": {
    "colab": {
     "base_uri": "https://localhost:8080/"
    },
    "id": "ig1SAxioXxPI",
    "outputId": "d32393a1-1e5e-4af1-a098-864404ba6ec2"
   },
   "outputs": [],
   "source": [
    "list(Xtrain[Xtrain.job_category == \"finance\"].index)"
   ]
  },
  {
   "cell_type": "code",
   "execution_count": null,
   "metadata": {
    "id": "ejb1GKsoS8p7"
   },
   "outputs": [],
   "source": [
    "def Recommendations(title):\n",
    "    index = list(Xtrain[Xtrain.job_category == title].index)\n",
    "    print(index)\n",
    "    scores = list(enumerate(cosine_sim[index]))\n",
    "    similarity_scores = sorted(scores, key=lambda x: x[1], reverse=True)\n",
    "    similarity_scores = similarity_scores[:4]\n",
    "    food = [i[0] for i in similarity_scores]\n",
    "    return Xtrain['job_title'].iloc[food]"
   ]
  },
  {
   "cell_type": "code",
   "execution_count": null,
   "metadata": {
    "colab": {
     "base_uri": "https://localhost:8080/"
    },
    "id": "IJ4ZkEU4S8p8",
    "outputId": "1c16e413-bba2-4b75-c240-b7a61055e7e7"
   },
   "outputs": [],
   "source": [
    "Recommendations(\"finance\")"
   ]
  },
  {
   "cell_type": "code",
   "execution_count": null,
   "metadata": {
    "id": "lgYrAWbBWH8j"
   },
   "outputs": [],
   "source": []
  },
  {
   "cell_type": "code",
   "execution_count": null,
   "metadata": {},
   "outputs": [],
   "source": []
  },
  {
   "cell_type": "code",
   "execution_count": null,
   "metadata": {},
   "outputs": [],
   "source": []
  }
 ],
 "metadata": {
  "colab": {
   "name": "Train.ipynb",
   "provenance": []
  },
  "kernelspec": {
   "display_name": "Python 3",
   "language": "python",
   "name": "python3"
  },
  "language_info": {
   "codemirror_mode": {
    "name": "ipython",
    "version": 3
   },
   "file_extension": ".py",
   "mimetype": "text/x-python",
   "name": "python",
   "nbconvert_exporter": "python",
   "pygments_lexer": "ipython3",
   "version": "3.8.5"
  }
 },
 "nbformat": 4,
 "nbformat_minor": 5
}
